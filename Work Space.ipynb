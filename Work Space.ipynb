{
 "cells": [
  {
   "cell_type": "code",
   "execution_count": 20,
   "metadata": {
    "collapsed": false,
    "deletable": true,
    "editable": true
   },
   "outputs": [
    {
     "name": "stdout",
     "output_type": "stream",
     "text": [
      "Clusters have already been produced, replace? (y/n) 1\n",
      "Response not recognized. Replace existing clusters? (y/n): 2\n",
      "Response not recognized. Replace existing clusters? (y/n): 3\n",
      "Response not recognized. Replace existing clusters? (y/n): 4\n",
      "Response not recognized. Replace existing clusters? (y/n): 5\n",
      "Response not recognized. Replace existing clusters? (y/n): 6\n",
      "Response not recognized. Replace existing clusters? (y/n): 7\n",
      "Response not recognized. Replace existing clusters? (y/n): 8\n",
      "Response not recognized. Replace existing clusters? (y/n): 9\n",
      "Response not recognized. Replace existing clusters? (y/n): 10\n",
      "Response not recognized. Replace existing clusters? (y/n): 11\n",
      "Too many invalid responses. Exiting program.\n",
      "11\n"
     ]
    }
   ],
   "source": [
    "replace = raw_input('Clusters have already been produced, replace? (y/n) ')\n",
    "n_ent = 1\n",
    "while(not(replace=='y' or replace == 'n')):\n",
    "    \n",
    "    replace = raw_input(\"Response not recognized. Replace existing clusters? (y/n): \")\n",
    "    if n_ent == 10:\n",
    "        print(\"Too many invalid responses. Exiting program.\")\n",
    "        break\n",
    "    n_ent += 1    \n",
    "print(replace)"
   ]
  },
  {
   "cell_type": "code",
   "execution_count": 25,
   "metadata": {
    "collapsed": false,
    "deletable": true,
    "editable": true
   },
   "outputs": [
    {
     "name": "stdout",
     "output_type": "stream",
     "text": [
      "Enter the identifier of the data or type 'help' for clarification: help\n",
      "\n",
      "        This will look for a numpy array (.npy) with the identifier as a prefix.\n",
      "        If you haven't made the numpy array with keplerml.py, abort this with ctrl-c and run\n",
      "        keplerml.py. If you have run keplerml.py, input the identifier you chose.\n",
      "        \n",
      "        If you would like to assign 'help' as the ID, enter it again when prompted.\n",
      "\n",
      "        For example, if you chose 'ex', there will be a .npy file \n",
      "        called exdataByLightCurve.npy that will be read in.\n",
      "        For the identifier you would input 'ex'\n",
      "        \n",
      "Enter the identifier of the data: help\n",
      "'help' will be the assigned ID.\n"
     ]
    }
   ],
   "source": [
    "\n",
    "identifier = raw_input('Enter the identifier of the data or type \\'help\\' for clarification: ')\n",
    "if identifier == 'help':\n",
    "    n_help = 1\n",
    "    while(identifier == 'help'):\n",
    "        if n_help == 2:\n",
    "            print(\"\\'help\\' will be the assigned ID.\")\n",
    "            break\n",
    "        print(\n",
    "        '''\n",
    "        This will look for a numpy array (.npy) with the identifier as a prefix.\n",
    "        If you haven\\'t made the numpy array with keplerml.py, abort this with ctrl-c and run\n",
    "        keplerml.py. If you have run keplerml.py, input the identifier you chose.\n",
    "        \n",
    "        If you would like to assign \\'help\\' as the ID, enter it again when prompted,\n",
    "        this help text will not appear again.\n",
    "\n",
    "        For example, if you chose \\'ex\\', there will be a .npy file \n",
    "        called exdataByLightCurve.npy that will be read in.\n",
    "        For the identifier you would input \\'ex\\'\n",
    "        ''')\n",
    "        identifier = raw_input('Enter the identifier of the data: ')\n",
    "        \n",
    "        n_help += 1"
   ]
  },
  {
   "cell_type": "code",
   "execution_count": 3,
   "metadata": {
    "collapsed": false,
    "deletable": true,
    "editable": true
   },
   "outputs": [
    {
     "name": "stdout",
     "output_type": "stream",
     "text": [
      "/home/dgiles/Documents/NESSF.zip\n",
      "/home/dgiles/Documents\n"
     ]
    }
   ],
   "source": [
    "import sys,os\n",
    "if sys.version_info[0] < 3:\n",
    "    from Tkinter import Tk\n",
    "else:\n",
    "    from tkinter import Tk\n",
    "from tkFileDialog import askopenfilename\n",
    "\n",
    "Tk().withdraw() # we don't want a full GUI, so keep the root window from appearing\n",
    "filename = askopenfilename() # show an \"Open\" dialog box and return the path to the selected file\n",
    "pathtofile = os.path.dirname(filename)\n",
    "print(filename)\n",
    "print(pathtofile)"
   ]
  },
  {
   "cell_type": "code",
   "execution_count": 18,
   "metadata": {
    "collapsed": false,
    "deletable": true,
    "editable": true
   },
   "outputs": [
    {
     "name": "stdout",
     "output_type": "stream",
     "text": [
      "[[0 1 2 3]\n",
      " [1 0 2 3]\n",
      " [2 1 0 3]\n",
      " [3 4 5 0]\n",
      " [4 3 5 0]\n",
      " [5 4 3 0]]\n",
      "[ 2.82842712  3.60555128  5.          2.82842712  3.60555128  5.        ]\n"
     ]
    }
   ],
   "source": [
    "from sklearn.neighbors import NearestNeighbors\n",
    "import numpy as np\n",
    "X = np.array([[-1, -1], [-2, -1], [-3, -2], [1, 1], [2, 1], [3, 2]])\n",
    "nbrs = NearestNeighbors(n_neighbors=4, algorithm='ball_tree').fit(X)\n",
    "distances, indices = nbrs.kneighbors(X)\n",
    "\n",
    "print(indices)\n",
    "print(distances[:,3])"
   ]
  },
  {
   "cell_type": "code",
   "execution_count": 4,
   "metadata": {
    "collapsed": false,
    "deletable": true,
    "editable": true
   },
   "outputs": [
    {
     "name": "stdout",
     "output_type": "stream",
     "text": [
      "[54 25 26 61  9]\n"
     ]
    }
   ],
   "source": [
    "# Random index selection\n",
    "import numpy as np\n",
    "if sys.version_info[0] < 3:\n",
    "    from Tkinter import Tk\n",
    "else:\n",
    "    from tkinter import Tk\n",
    "from tkFileDialog import askopenfilename\n",
    "\n",
    "print('Select the filelist')\n",
    "Tk().withdraw() # we don't want a full GUI, so keep the root window from appearing\n",
    "filelist = askopenfilename() # show an \"Open\" dialog box and return the path to the selected file\n",
    "\n",
    "files = [line.strip() for line in open(filelist)]\n",
    "\n",
    "randomLCs = np.random.choice(files, 1000, replace=False)\n",
    "\n",
    "# test if Tabby star is included in the otherwise random set, insert if not\n",
    "import fnmatch\n",
    "\n",
    "tabbyCheck = fnmatch.filter(randomLCs, '*8462852*')\n",
    "tabby = fnmatch.filter(files,'*8462852*')\n",
    "\n",
    "if tabbyCheck==[]:\n",
    "    randomLCs = np.delete(randomLCs,0)\n",
    "    randomLCs = np.insert(randomLCs,0,tabby)\n",
    "# output random filelist to randomizedFilelist\n",
    "for i in range(len(randomLCs)):\n",
    "    outputfile = open('randomizedFilelist','w')\n",
    "    outputfile.write('%s\\n'%randomLCs[i]) "
   ]
  },
  {
   "cell_type": "code",
   "execution_count": 20,
   "metadata": {
    "collapsed": false,
    "deletable": true,
    "editable": true
   },
   "outputs": [
    {
     "name": "stdout",
     "output_type": "stream",
     "text": [
      "['h' 'i' 'g']\n",
      "Not Present\n",
      "['heyo8462852.pie' 'i' 'g']\n"
     ]
    }
   ],
   "source": [
    "import fnmatch\n",
    "\n",
    "files = ['a','b','c','d','e','heyo8462852.pie','f','g','h','i']\n",
    "randomLCs = np.random.choice(files, 3, replace=False)\n",
    "print(randomLCs)\n",
    "\n",
    "tabbyCheck = fnmatch.filter(randomLCs, '*8462852*')\n",
    "tabby = fnmatch.filter(files,'*8462852*')\n",
    "\n",
    "if tabbyCheck==[]:\n",
    "    randomLCs = np.delete(randomLCs,0)\n",
    "    randomLCs = np.insert(randomLCs,0,tabby)\n",
    "    \n",
    "print(randomLCs)"
   ]
  },
  {
   "cell_type": "code",
   "execution_count": 24,
   "metadata": {
    "collapsed": false,
    "deletable": true,
    "editable": true
   },
   "outputs": [
    {
     "ename": "TypeError",
     "evalue": "can't compare datetime.timedelta to str",
     "output_type": "error",
     "traceback": [
      "\u001b[1;31m---------------------------------------------------------------------------\u001b[0m",
      "\u001b[1;31mTypeError\u001b[0m                                 Traceback (most recent call last)",
      "\u001b[1;32m<ipython-input-24-bcd43922378b>\u001b[0m in \u001b[0;36m<module>\u001b[1;34m()\u001b[0m\n\u001b[0;32m     22\u001b[0m \u001b[1;33m\u001b[0m\u001b[0m\n\u001b[0;32m     23\u001b[0m \u001b[0mp\u001b[0m \u001b[1;33m=\u001b[0m \u001b[0mPool\u001b[0m\u001b[1;33m(\u001b[0m\u001b[1;36m3\u001b[0m\u001b[1;33m)\u001b[0m\u001b[1;33m\u001b[0m\u001b[0m\n\u001b[1;32m---> 24\u001b[1;33m \u001b[0mtimediffs\u001b[0m \u001b[1;33m=\u001b[0m \u001b[0mp\u001b[0m\u001b[1;33m.\u001b[0m\u001b[0mmap\u001b[0m\u001b[1;33m(\u001b[0m\u001b[0mtimeDifference\u001b[0m\u001b[1;33m,\u001b[0m\u001b[0mtimes\u001b[0m\u001b[1;33m)\u001b[0m\u001b[1;33m\u001b[0m\u001b[0m\n\u001b[0m\u001b[0;32m     25\u001b[0m \u001b[0mp\u001b[0m\u001b[1;33m.\u001b[0m\u001b[0mclose\u001b[0m\u001b[1;33m(\u001b[0m\u001b[1;33m)\u001b[0m\u001b[1;33m\u001b[0m\u001b[0m\n\u001b[0;32m     26\u001b[0m \u001b[0mp\u001b[0m\u001b[1;33m.\u001b[0m\u001b[0mterminate\u001b[0m\u001b[1;33m(\u001b[0m\u001b[1;33m)\u001b[0m\u001b[1;33m\u001b[0m\u001b[0m\n",
      "\u001b[1;32m/home/dgiles/anaconda/lib/python2.7/multiprocessing/pool.pyc\u001b[0m in \u001b[0;36mmap\u001b[1;34m(self, func, iterable, chunksize)\u001b[0m\n\u001b[0;32m    249\u001b[0m         '''\n\u001b[0;32m    250\u001b[0m         \u001b[1;32massert\u001b[0m \u001b[0mself\u001b[0m\u001b[1;33m.\u001b[0m\u001b[0m_state\u001b[0m \u001b[1;33m==\u001b[0m \u001b[0mRUN\u001b[0m\u001b[1;33m\u001b[0m\u001b[0m\n\u001b[1;32m--> 251\u001b[1;33m         \u001b[1;32mreturn\u001b[0m \u001b[0mself\u001b[0m\u001b[1;33m.\u001b[0m\u001b[0mmap_async\u001b[0m\u001b[1;33m(\u001b[0m\u001b[0mfunc\u001b[0m\u001b[1;33m,\u001b[0m \u001b[0miterable\u001b[0m\u001b[1;33m,\u001b[0m \u001b[0mchunksize\u001b[0m\u001b[1;33m)\u001b[0m\u001b[1;33m.\u001b[0m\u001b[0mget\u001b[0m\u001b[1;33m(\u001b[0m\u001b[1;33m)\u001b[0m\u001b[1;33m\u001b[0m\u001b[0m\n\u001b[0m\u001b[0;32m    252\u001b[0m \u001b[1;33m\u001b[0m\u001b[0m\n\u001b[0;32m    253\u001b[0m     \u001b[1;32mdef\u001b[0m \u001b[0mimap\u001b[0m\u001b[1;33m(\u001b[0m\u001b[0mself\u001b[0m\u001b[1;33m,\u001b[0m \u001b[0mfunc\u001b[0m\u001b[1;33m,\u001b[0m \u001b[0miterable\u001b[0m\u001b[1;33m,\u001b[0m \u001b[0mchunksize\u001b[0m\u001b[1;33m=\u001b[0m\u001b[1;36m1\u001b[0m\u001b[1;33m)\u001b[0m\u001b[1;33m:\u001b[0m\u001b[1;33m\u001b[0m\u001b[0m\n",
      "\u001b[1;32m/home/dgiles/anaconda/lib/python2.7/multiprocessing/pool.pyc\u001b[0m in \u001b[0;36mget\u001b[1;34m(self, timeout)\u001b[0m\n\u001b[0;32m    565\u001b[0m             \u001b[1;32mreturn\u001b[0m \u001b[0mself\u001b[0m\u001b[1;33m.\u001b[0m\u001b[0m_value\u001b[0m\u001b[1;33m\u001b[0m\u001b[0m\n\u001b[0;32m    566\u001b[0m         \u001b[1;32melse\u001b[0m\u001b[1;33m:\u001b[0m\u001b[1;33m\u001b[0m\u001b[0m\n\u001b[1;32m--> 567\u001b[1;33m             \u001b[1;32mraise\u001b[0m \u001b[0mself\u001b[0m\u001b[1;33m.\u001b[0m\u001b[0m_value\u001b[0m\u001b[1;33m\u001b[0m\u001b[0m\n\u001b[0m\u001b[0;32m    568\u001b[0m \u001b[1;33m\u001b[0m\u001b[0m\n\u001b[0;32m    569\u001b[0m     \u001b[1;32mdef\u001b[0m \u001b[0m_set\u001b[0m\u001b[1;33m(\u001b[0m\u001b[0mself\u001b[0m\u001b[1;33m,\u001b[0m \u001b[0mi\u001b[0m\u001b[1;33m,\u001b[0m \u001b[0mobj\u001b[0m\u001b[1;33m)\u001b[0m\u001b[1;33m:\u001b[0m\u001b[1;33m\u001b[0m\u001b[0m\n",
      "\u001b[1;31mTypeError\u001b[0m: can't compare datetime.timedelta to str"
     ]
    }
   ],
   "source": [
    "from datetime import datetime,time,timedelta\n",
    "import os\n",
    "from multiprocessing import Pool\n",
    "\n",
    "thentime = datetime(2016,9,1,11,15,38)\n",
    "times = [datetime(2016,9,1,11,16,38),datetime(2016,9,1,11,16,50),datetime(2016,9,1,11,17,50)]\n",
    "#timedelta(days,seconds,microseconds,milliseconds,minutes,hours,weeks)\n",
    "diff = timedelta(minutes=1)\n",
    "identifier = 'test'\n",
    "\n",
    "timediff = nowtime-thentime\n",
    "\n",
    "def timeDifference(time):\n",
    "    timediff=time-thentime\n",
    "    nfile = str(time)[14:19]\n",
    "    if time == datetime(2016,9,1,11,17,50):\n",
    "        # inducing an error\n",
    "        timediff = 'cat'\n",
    "    if timediff>=diff:\n",
    "        kml_log = identifier+'_kml_log'\n",
    "        os.system('echo %s ... %s >> %s'%(nfile,timediff,kml_log))\n",
    "    return timediff\n",
    "\n",
    "p = Pool(3)\n",
    "timediffs = p.map(timeDifference,times)\n",
    "p.close()\n",
    "p.terminate()\n",
    "p.join()\n",
    "\n",
    "print(timediffs)"
   ]
  },
  {
   "cell_type": "code",
   "execution_count": 74,
   "metadata": {
    "collapsed": false,
    "deletable": true,
    "editable": true
   },
   "outputs": [
    {
     "name": "stdout",
     "output_type": "stream",
     "text": [
      "[[ 1.  2.  3. -1. -2. -3.]\n",
      " [ 3.  2.  3. -1. -2. -3.]\n",
      " [ 2.  2.  3. -1. -2. -3.]]\n"
     ]
    }
   ],
   "source": [
    "import numpy as np\n",
    "f = [3,2,3,-1,-2,-3]\n",
    "#os.system('echo %s >> testoutput'%f)\n",
    "files = [line.strip()[:] for line in open('testoutput')]\n",
    "files.sort()\n",
    "f = open('testsortedoutput','w')\n",
    "for line in files:\n",
    "    f.write(line[5:]+'\\n')\n",
    "f.close()\n",
    "npfiles = np.loadtxt('testsortedoutput',delimiter=',')\n",
    "\n",
    "def printthing():\n",
    "    print(npfiles)\n",
    "printthing()"
   ]
  },
  {
   "cell_type": "code",
   "execution_count": 86,
   "metadata": {
    "collapsed": false,
    "deletable": true,
    "editable": true
   },
   "outputs": [
    {
     "name": "stdout",
     "output_type": "stream",
     "text": [
      "Hi there Hi there Hi there Hi there Hi there \n",
      "Bye there Bye there Bye there Bye there Bye there \n"
     ]
    }
   ],
   "source": [
    "hi = \"Hi there \"\n",
    "hi5='%s'*5%(hi,hi,hi,hi,hi)\n",
    "bye5=hi5.replace('Hi',\"Bye\")\n",
    "print(hi5)\n",
    "print(bye5)"
   ]
  },
  {
   "cell_type": "code",
   "execution_count": 21,
   "metadata": {
    "collapsed": false,
    "deletable": true,
    "editable": true
   },
   "outputs": [
    {
     "name": "stdout",
     "output_type": "stream",
     "text": [
      "line2\n",
      "\n"
     ]
    }
   ],
   "source": [
    "import numpy as np\n",
    "import os\n",
    "\n",
    "files = [cat.strip() for cat in open('test_kml_log')]\n",
    "\n",
    "print open('test_kml_log').readline()"
   ]
  },
  {
   "cell_type": "code",
   "execution_count": 9,
   "metadata": {
    "collapsed": false,
    "deletable": true,
    "editable": true
   },
   "outputs": [
    {
     "ename": "KeyboardInterrupt",
     "evalue": "",
     "output_type": "error",
     "traceback": [
      "\u001b[1;31m---------------------------------------------------------------------------\u001b[0m",
      "\u001b[1;31mKeyboardInterrupt\u001b[0m                         Traceback (most recent call last)",
      "\u001b[1;32m<ipython-input-9-16e1c279b439>\u001b[0m in \u001b[0;36m<module>\u001b[1;34m()\u001b[0m\n\u001b[0;32m     69\u001b[0m   \u001b[0mroot\u001b[0m \u001b[1;33m=\u001b[0m \u001b[0mTkinter\u001b[0m\u001b[1;33m.\u001b[0m\u001b[0mTk\u001b[0m\u001b[1;33m(\u001b[0m\u001b[1;33m)\u001b[0m\u001b[1;33m\u001b[0m\u001b[0m\n\u001b[0;32m     70\u001b[0m   \u001b[0mTkFileDialogExample\u001b[0m\u001b[1;33m(\u001b[0m\u001b[0mroot\u001b[0m\u001b[1;33m)\u001b[0m\u001b[1;33m.\u001b[0m\u001b[0mpack\u001b[0m\u001b[1;33m(\u001b[0m\u001b[1;33m)\u001b[0m\u001b[1;33m\u001b[0m\u001b[0m\n\u001b[1;32m---> 71\u001b[1;33m   \u001b[0mroot\u001b[0m\u001b[1;33m.\u001b[0m\u001b[0mmainloop\u001b[0m\u001b[1;33m(\u001b[0m\u001b[1;33m)\u001b[0m\u001b[1;33m\u001b[0m\u001b[0m\n\u001b[0m",
      "\u001b[1;32m/home/dgiles/anaconda/lib/python2.7/lib-tk/Tkinter.pyc\u001b[0m in \u001b[0;36mmainloop\u001b[1;34m(self, n)\u001b[0m\n\u001b[0;32m   1123\u001b[0m     \u001b[1;32mdef\u001b[0m \u001b[0mmainloop\u001b[0m\u001b[1;33m(\u001b[0m\u001b[0mself\u001b[0m\u001b[1;33m,\u001b[0m \u001b[0mn\u001b[0m\u001b[1;33m=\u001b[0m\u001b[1;36m0\u001b[0m\u001b[1;33m)\u001b[0m\u001b[1;33m:\u001b[0m\u001b[1;33m\u001b[0m\u001b[0m\n\u001b[0;32m   1124\u001b[0m         \u001b[1;34m\"\"\"Call the mainloop of Tk.\"\"\"\u001b[0m\u001b[1;33m\u001b[0m\u001b[0m\n\u001b[1;32m-> 1125\u001b[1;33m         \u001b[0mself\u001b[0m\u001b[1;33m.\u001b[0m\u001b[0mtk\u001b[0m\u001b[1;33m.\u001b[0m\u001b[0mmainloop\u001b[0m\u001b[1;33m(\u001b[0m\u001b[0mn\u001b[0m\u001b[1;33m)\u001b[0m\u001b[1;33m\u001b[0m\u001b[0m\n\u001b[0m\u001b[0;32m   1126\u001b[0m     \u001b[1;32mdef\u001b[0m \u001b[0mquit\u001b[0m\u001b[1;33m(\u001b[0m\u001b[0mself\u001b[0m\u001b[1;33m)\u001b[0m\u001b[1;33m:\u001b[0m\u001b[1;33m\u001b[0m\u001b[0m\n\u001b[0;32m   1127\u001b[0m         \u001b[1;34m\"\"\"Quit the Tcl interpreter. All widgets will be destroyed.\"\"\"\u001b[0m\u001b[1;33m\u001b[0m\u001b[0m\n",
      "\u001b[1;31mKeyboardInterrupt\u001b[0m: "
     ]
    }
   ],
   "source": [
    "import Tkinter, Tkconstants, tkFileDialog\n",
    "\n",
    "class TkFileDialogExample(Tkinter.Frame):\n",
    "\n",
    "  def __init__(self, root):\n",
    "\n",
    "    Tkinter.Frame.__init__(self, root)\n",
    "\n",
    "    # options for buttons\n",
    "    button_opt = {'fill': Tkconstants.BOTH, 'padx': 5, 'pady': 5}\n",
    "\n",
    "    # define buttons\n",
    "    Tkinter.Button(self, text='Choose Filelist', command=self.askopenfilename).pack(**button_opt)\n",
    "    Tkinter.Button(self, text='Choose Output', command=self.asksaveasfilename).pack(**button_opt)\n",
    "    Tkinter.Button(self, text='Choose Fits Files Directory', command=self.askdirectory).pack(**button_opt)\n",
    "\n",
    "    # define options for opening or saving a file\n",
    "    self.file_opt = options = {}\n",
    "    options['initialdir'] = 'C:\\\\'\n",
    "    options['parent'] = root\n",
    "    options['title'] = 'This is a title'\n",
    "\n",
    "    # This is only available on the Macintosh, and only when Navigation Services are installed.\n",
    "    #options['message'] = 'message'\n",
    "\n",
    "    # if you use the multiple file version of the module functions this option is set automatically.\n",
    "    #options['multiple'] = 1\n",
    "\n",
    "    # defining options for opening a directory\n",
    "    self.dir_opt = options = {}\n",
    "    options['initialdir'] = 'C:\\\\'\n",
    "    options['mustexist'] = False\n",
    "    options['parent'] = root\n",
    "    options['title'] = 'This is a title'\n",
    "\n",
    "  def askopenfilename(self):\n",
    "\n",
    "    \"\"\"Returns an opened file in read mode.\n",
    "    This time the dialog just returns a filename and the file is opened by your own code.\n",
    "    \"\"\"\n",
    "\n",
    "    # get filename\n",
    "    filename = tkFileDialog.askopenfilename(**self.file_opt)\n",
    "\n",
    "    # open file on your own\n",
    "    if filename:\n",
    "      return open(filename, 'r')\n",
    "\n",
    "  def asksaveasfilename(self):\n",
    "\n",
    "    \"\"\"Returns an opened file in write mode.\n",
    "    This time the dialog just returns a filename and the file is opened by your own code.\n",
    "    \"\"\"\n",
    "\n",
    "    # get filename\n",
    "    filename = tkFileDialog.asksaveasfilename(**self.file_opt)\n",
    "\n",
    "    # open file on your own\n",
    "    if filename:\n",
    "      return open(filename, 'w')\n",
    "\n",
    "  def askdirectory(self):\n",
    "\n",
    "    \"\"\"Returns a selected directoryname.\"\"\"\n",
    "\n",
    "    return tkFileDialog.askdirectory(**self.dir_opt)\n",
    "\n",
    "if __name__=='__main__':\n",
    "  root = Tkinter.Tk()\n",
    "  TkFileDialogExample(root).pack()\n",
    "  root.mainloop()\n"
   ]
  },
  {
   "cell_type": "code",
   "execution_count": 14,
   "metadata": {
    "collapsed": false,
    "deletable": true,
    "editable": true
   },
   "outputs": [
    {
     "name": "stdout",
     "output_type": "stream",
     "text": [
      "['4', '74']\n"
     ]
    }
   ],
   "source": [
    "import numpy as np\n",
    "import fnmatch\n",
    "data = ['11','2','3','12']\n",
    "data1 = [4,5,6,74]\n",
    "data2 = [8,9,10,11,12,13]\n",
    "\n",
    "data11 = np.array([str(data1[i]) for i in range(len(data1))])\n",
    "\n",
    "one = fnmatch.filter(data11,\"*\"+str(4)+\"*\")\n",
    "\n",
    "print(one)"
   ]
  },
  {
   "cell_type": "code",
   "execution_count": 30,
   "metadata": {
    "collapsed": false,
    "deletable": true,
    "editable": true
   },
   "outputs": [
    {
     "name": "stdout",
     "output_type": "stream",
     "text": [
      "[['dog', 4, 5, 6, 6.543], ['fish', 1, 10, 100, 1000.0001], ['cat', 1, 2, 3, 1.234]]\n",
      "\n",
      "[['cat', 1, 2, 3, 1.234], ['dog', 4, 5, 6, 6.543], ['fish', 1, 10, 100, 1000.0001]]\n",
      "['cat', 'dog', 'fish']\n"
     ]
    }
   ],
   "source": [
    "import cPickle as pickle\n",
    "import numpy as np\n",
    "import os\n",
    "from multiprocessing import Pool\n",
    "\n",
    "\"\"\"\n",
    "IMPORTANT NOTE: It's possible to dump multiple times to the same output file. Loading that data will only load one\n",
    "dump at a time, so it must be loaded as many times as it's dumped to access all data in a file.\n",
    "\"\"\"\n",
    "\n",
    "array = ['cat',1,2,3,1.234]\n",
    "array2 = ['dog',4,5,6,6.543]\n",
    "array3 = ['fish',1,10,100,1000.0001]\n",
    "allarrays=[array,array2,array3]\n",
    "# testing pickling\n",
    "\n",
    "\n",
    "def picklestuff(stuff):\n",
    "    if not os.path.isfile('testoutput'):\n",
    "        open('testoutput','a').close()\n",
    "    output = open('testoutput','a')\n",
    "    pickle.dump(stuff,output)\n",
    "    output.close()\n",
    "\n",
    "if not os.path.isfile('testoutput'):\n",
    "        open('testoutput','a').close()\n",
    "output = open('testoutput','r+')\n",
    "pickle.dump(array2,output)\n",
    "pickle.dump(array3,output)\n",
    "pickle.dump(array,output)\n",
    "output.close()\n",
    "\n",
    "# testing unpickling\n",
    "testinput = open('testoutput','r+')\n",
    "\"\"\"\n",
    "pik=pickle.load(testinput)\n",
    "pik2=pickle.load(testinput)\n",
    "testinput.close()\n",
    "\"\"\"\n",
    "pik=[]\n",
    "while True:\n",
    "    try:\n",
    "        o = pickle.load(testinput)\n",
    "    except EOFError:\n",
    "        break\n",
    "    else:\n",
    "        pik.append(o)\n",
    "testinput.close()\n",
    "\n",
    "print(pik)\n",
    "print('')\n",
    "pik.sort()\n",
    "\n",
    "# Testing if it all pickles as one array now.\n",
    "output=open('testsortedoutput','r+')\n",
    "pickle.dump(pik,output)\n",
    "output.close()\n",
    "\n",
    "testinput = open('testsortedoutput','r')\n",
    "newpik = pickle.load(testinput)\n",
    "testinput.close()\n",
    "print(newpik)\n",
    "# it does pickle as one array now, good.\n",
    "animals = [newpik[i][0] for i in range(len(newpik))]\n",
    "print(animals)"
   ]
  },
  {
   "cell_type": "code",
   "execution_count": 1,
   "metadata": {
    "collapsed": false,
    "deletable": true,
    "editable": true
   },
   "outputs": [
    {
     "name": "stdout",
     "output_type": "stream",
     "text": [
      "boo\n"
     ]
    }
   ],
   "source": [
    "import sys\n",
    "if sys.version_info[0] < 3:\n",
    "    from Tkinter import Tk\n",
    "else:\n",
    "    from tkinter import Tk\n",
    "\n",
    "from tkFileDialog import askopenfilename,askdirectory\n",
    "\n",
    "\n",
    "Tk().withdraw() \n",
    "output = askopenfilename()\n",
    "\n",
    "if output:\n",
    "    outputfile = open(output,'r+') # show an \"Open\" dialog box and return the path to the selected file\n",
    "    print(\"woo\")\n",
    "    outputfile.close()\n",
    "else:\n",
    "    print(\"boo\")\n",
    "\n"
   ]
  },
  {
   "cell_type": "code",
   "execution_count": 3,
   "metadata": {
    "collapsed": false,
    "deletable": true,
    "editable": true
   },
   "outputs": [],
   "source": [
    "import numpy as np\n",
    "np.set_printoptions(threshold='nan')\n",
    "import os\n",
    "import sys\n",
    "import cPickle as pickle\n",
    "if sys.version_info[0] < 3:\n",
    "    from Tkinter import Tk\n",
    "else:\n",
    "    from tkinter import Tk\n",
    "\n",
    "from tkFileDialog import askopenfilename,askdirectory\n",
    "output = askopenfilename() # locate the pickle file with the relevant data\n",
    "\n",
    "if output:\n",
    "    pathtofile = os.path.dirname(output)\n",
    "    outputfile = open(output,'r+') # show an \"Open\" dialog box and return the path to the selected file\n",
    "    outputdata = []\n",
    "    while True:\n",
    "        try:\n",
    "            o = pickle.load(outputfile)\n",
    "        except EOFError:\n",
    "            break\n",
    "        else:\n",
    "            outputdata.append(o)\n",
    "    outputfile.close()\n",
    "\n",
    "    files = [outputdata[i][0] for i in range(len(outputdata))]\n",
    "    data = np.array([outputdata[i][1:] for i in range(len(outputdata))])\n",
    "    print(files[0])\n",
    "    print(data[0])"
   ]
  },
  {
   "cell_type": "code",
   "execution_count": 41,
   "metadata": {
    "collapsed": false,
    "deletable": true,
    "editable": true
   },
   "outputs": [
    {
     "name": "stdout",
     "output_type": "stream",
     "text": [
      "[46863, 50739, 77707, 92257, 159088]\n"
     ]
    }
   ],
   "source": [
    "#run cell above before this one\n",
    "weirddata = [i for i in data if np.isnan(i).any()]\n",
    "weirddatainds = [i for i in range(len(data)) if np.isnan(data[i]).any()]\n",
    "print(weirddatainds)"
   ]
  },
  {
   "cell_type": "code",
   "execution_count": 46,
   "metadata": {
    "collapsed": false,
    "deletable": true,
    "editable": true
   },
   "outputs": [
    {
     "name": "stdout",
     "output_type": "stream",
     "text": [
      "kplr011495654-2010174085026_llc.fits\n",
      "[ -9.93052528e-04   9.84048903e-01  -2.68960282e-01   1.53136747e-02\n",
      "   1.25754356e-01   1.23748437e-01   0.00000000e+00   0.00000000e+00\n",
      "   0.00000000e+00   2.06300000e+03  -1.25817058e+00   1.10004127e-01\n",
      "   1.80803572e-03   2.40955732e-02  -1.63906125e-02   1.13105677e-02\n",
      "  -9.22863996e-03  -1.22559421e+00   1.00000000e+00   2.08192773e-03\n",
      "   1.75979106e-01   3.62931098e-05   1.40091913e-04   1.03473570e-02\n",
      "   1.48490393e-01   5.00000000e+00   9.00000000e+00   1.70000000e+01\n",
      "   1.70000000e+01   1.52735526e+00   3.00000000e+00   1.05000000e+02\n",
      "   2.00000000e+00   5.00000000e+00              nan   1.43846328e-04\n",
      "   0.00000000e+00   0.00000000e+00   6.92923236e+01   4.33051726e-03\n",
      "   8.66103452e-03   9.16041195e-01   3.79079232e-01   3.85223977e-01\n",
      "   0.00000000e+00   1.72380316e-01   4.03968186e-01   6.27886671e-01\n",
      "   8.24295422e-01   9.49554305e-01   1.55821562e-01   4.11052753e-01\n",
      "   8.83818335e-01   9.99997513e-01   9.47999114e-04   4.55169903e-03\n",
      "  -3.48307419e-02  -1.17880918e-01   2.95473961e-01   2.08273681e-01]\n"
     ]
    }
   ],
   "source": [
    "ind=4\n",
    "print(files[weirddatainds[ind]])\n",
    "print(weirddata[ind])"
   ]
  },
  {
   "cell_type": "code",
   "execution_count": 11,
   "metadata": {
    "collapsed": false,
    "deletable": true,
    "editable": true
   },
   "outputs": [
    {
     "name": "stdout",
     "output_type": "stream",
     "text": [
      "['a' 'c' 'e']\n",
      "['a' 'c' 'e' 'b' 'd' 'f']\n"
     ]
    }
   ],
   "source": [
    "import numpy as np\n",
    "ints = [0,2,4]\n",
    "otherints = [1,3,5]\n",
    "array = np.array(['a','b','c','d','e','f'])\n",
    "newarray = []\n",
    "newarray.append(array[ints])\n",
    "newarray.append(array[otherints])\n",
    "print(newarray[0])\n",
    "print(array[ints+otherints])"
   ]
  },
  {
   "cell_type": "code",
   "execution_count": 25,
   "metadata": {
    "collapsed": false,
    "deletable": true,
    "editable": true
   },
   "outputs": [
    {
     "name": "stdout",
     "output_type": "stream",
     "text": [
      "[1, 1, 1, 1, 1, 1, 2, 2, 2, 2, 3]\n"
     ]
    }
   ],
   "source": [
    "a = np.array([1,1,1,1,1,1,None,2,2,2,2,3,None])\n",
    "a = [i for i in a if i !=None]\n",
    "print(a)"
   ]
  },
  {
   "cell_type": "code",
   "execution_count": 6,
   "metadata": {
    "collapsed": false,
    "deletable": true,
    "editable": true
   },
   "outputs": [
    {
     "name": "stdout",
     "output_type": "stream",
     "text": [
      "Choose the directory the cluster data is contained in.\n",
      "Importing pickle file...\n",
      "File imported\n",
      "Seperating into clusters, outliers, and centers...\n"
     ]
    },
    {
     "ename": "TypingError",
     "evalue": "Caused By:\nTraceback (most recent call last):\n  File \"/home/dgiles/anaconda/lib/python2.7/site-packages/numba/compiler.py\", line 243, in run\n    res = stage()\n  File \"/home/dgiles/anaconda/lib/python2.7/site-packages/numba/compiler.py\", line 463, in stage_nopython_frontend\n    self.locals)\n  File \"/home/dgiles/anaconda/lib/python2.7/site-packages/numba/compiler.py\", line 780, in type_inference_stage\n    infer.propagate()\n  File \"/home/dgiles/anaconda/lib/python2.7/site-packages/numba/typeinfer.py\", line 565, in propagate\n    raise errors[0]\nTypingError: Invalid usage of Function(<built-in function max>) with parameters (array(int64, 1d, A))\n * parameterized\nFile \"<ipython-input-6-ffcac364267d>\", line 37\n\nFailed at nopython (nopython frontend)\nInvalid usage of Function(<built-in function max>) with parameters (array(int64, 1d, A))\n * parameterized\nFile \"<ipython-input-6-ffcac364267d>\", line 37",
     "output_type": "error",
     "traceback": [
      "\u001b[1;31m---------------------------------------------------------------------------\u001b[0m",
      "\u001b[1;31mTypingError\u001b[0m                               Traceback (most recent call last)",
      "\u001b[1;32m<ipython-input-6-ffcac364267d>\u001b[0m in \u001b[0;36m<module>\u001b[1;34m()\u001b[0m\n\u001b[0;32m     75\u001b[0m \u001b[0mnumber_of_blocks\u001b[0m \u001b[1;33m=\u001b[0m\u001b[0mN\u001b[0m\u001b[1;33m/\u001b[0m\u001b[1;36m128\u001b[0m\u001b[1;33m+\u001b[0m\u001b[1;36m1\u001b[0m\u001b[1;33m\u001b[0m\u001b[0m\n\u001b[0;32m     76\u001b[0m \u001b[1;33m\u001b[0m\u001b[0m\n\u001b[1;32m---> 77\u001b[1;33m \u001b[0mclusterIndsCuda\u001b[0m \u001b[1;33m[\u001b[0m \u001b[0mnumber_of_blocks\u001b[0m\u001b[1;33m,\u001b[0m \u001b[0mthreads_per_block\u001b[0m \u001b[1;33m]\u001b[0m \u001b[1;33m(\u001b[0m\u001b[0md_clusterLabels\u001b[0m\u001b[1;33m,\u001b[0m\u001b[0md_clusterIndexes\u001b[0m\u001b[1;33m)\u001b[0m\u001b[1;33m\u001b[0m\u001b[0m\n\u001b[0m\u001b[0;32m     78\u001b[0m \u001b[1;33m\u001b[0m\u001b[0m\n\u001b[0;32m     79\u001b[0m \u001b[0mclusterIndexes\u001b[0m \u001b[1;33m=\u001b[0m \u001b[0md_clusterIndexes\u001b[0m\u001b[1;33m.\u001b[0m\u001b[0mcopy_to_host\u001b[0m\u001b[1;33m(\u001b[0m\u001b[1;33m)\u001b[0m\u001b[1;33m\u001b[0m\u001b[0m\n",
      "\u001b[1;32m/home/dgiles/anaconda/lib/python2.7/site-packages/numba/cuda/compiler.pyc\u001b[0m in \u001b[0;36m__call__\u001b[1;34m(self, *args)\u001b[0m\n\u001b[0;32m    570\u001b[0m         \u001b[0mSpecialize\u001b[0m \u001b[1;32mand\u001b[0m \u001b[0minvoke\u001b[0m \u001b[0mthis\u001b[0m \u001b[0mkernel\u001b[0m \u001b[1;32mwith\u001b[0m \u001b[1;33m*\u001b[0m\u001b[0margs\u001b[0m\u001b[1;33m*\u001b[0m\u001b[1;33m.\u001b[0m\u001b[1;33m\u001b[0m\u001b[0m\n\u001b[0;32m    571\u001b[0m         '''\n\u001b[1;32m--> 572\u001b[1;33m         \u001b[0mkernel\u001b[0m \u001b[1;33m=\u001b[0m \u001b[0mself\u001b[0m\u001b[1;33m.\u001b[0m\u001b[0mspecialize\u001b[0m\u001b[1;33m(\u001b[0m\u001b[1;33m*\u001b[0m\u001b[0margs\u001b[0m\u001b[1;33m)\u001b[0m\u001b[1;33m\u001b[0m\u001b[0m\n\u001b[0m\u001b[0;32m    573\u001b[0m         \u001b[0mcfg\u001b[0m \u001b[1;33m=\u001b[0m \u001b[0mkernel\u001b[0m\u001b[1;33m[\u001b[0m\u001b[0mself\u001b[0m\u001b[1;33m.\u001b[0m\u001b[0mgriddim\u001b[0m\u001b[1;33m,\u001b[0m \u001b[0mself\u001b[0m\u001b[1;33m.\u001b[0m\u001b[0mblockdim\u001b[0m\u001b[1;33m,\u001b[0m \u001b[0mself\u001b[0m\u001b[1;33m.\u001b[0m\u001b[0mstream\u001b[0m\u001b[1;33m,\u001b[0m \u001b[0mself\u001b[0m\u001b[1;33m.\u001b[0m\u001b[0msharedmem\u001b[0m\u001b[1;33m]\u001b[0m\u001b[1;33m\u001b[0m\u001b[0m\n\u001b[0;32m    574\u001b[0m         \u001b[0mcfg\u001b[0m\u001b[1;33m(\u001b[0m\u001b[1;33m*\u001b[0m\u001b[0margs\u001b[0m\u001b[1;33m)\u001b[0m\u001b[1;33m\u001b[0m\u001b[0m\n",
      "\u001b[1;32m/home/dgiles/anaconda/lib/python2.7/site-packages/numba/cuda/compiler.pyc\u001b[0m in \u001b[0;36mspecialize\u001b[1;34m(self, *args)\u001b[0m\n\u001b[0;32m    586\u001b[0m                 \u001b[0mself\u001b[0m\u001b[1;33m.\u001b[0m\u001b[0mtargetoptions\u001b[0m\u001b[1;33m[\u001b[0m\u001b[1;34m'link'\u001b[0m\u001b[1;33m]\u001b[0m \u001b[1;33m=\u001b[0m \u001b[1;33m(\u001b[0m\u001b[1;33m)\u001b[0m\u001b[1;33m\u001b[0m\u001b[0m\n\u001b[0;32m    587\u001b[0m             kernel = compile_kernel(self.py_func, argtypes,\n\u001b[1;32m--> 588\u001b[1;33m                                     **self.targetoptions)\n\u001b[0m\u001b[0;32m    589\u001b[0m             \u001b[0mself\u001b[0m\u001b[1;33m.\u001b[0m\u001b[0mdefinitions\u001b[0m\u001b[1;33m[\u001b[0m\u001b[0margtypes\u001b[0m\u001b[1;33m]\u001b[0m \u001b[1;33m=\u001b[0m \u001b[0mkernel\u001b[0m\u001b[1;33m\u001b[0m\u001b[0m\n\u001b[0;32m    590\u001b[0m             \u001b[1;32mif\u001b[0m \u001b[0mself\u001b[0m\u001b[1;33m.\u001b[0m\u001b[0mbind\u001b[0m\u001b[1;33m:\u001b[0m\u001b[1;33m\u001b[0m\u001b[0m\n",
      "\u001b[1;32m/home/dgiles/anaconda/lib/python2.7/site-packages/numba/cuda/compiler.pyc\u001b[0m in \u001b[0;36mcompile_kernel\u001b[1;34m(pyfunc, args, link, debug, inline, fastmath)\u001b[0m\n\u001b[0;32m     48\u001b[0m def compile_kernel(pyfunc, args, link, debug=False, inline=False,\n\u001b[0;32m     49\u001b[0m                    fastmath=False):\n\u001b[1;32m---> 50\u001b[1;33m     \u001b[0mcres\u001b[0m \u001b[1;33m=\u001b[0m \u001b[0mcompile_cuda\u001b[0m\u001b[1;33m(\u001b[0m\u001b[0mpyfunc\u001b[0m\u001b[1;33m,\u001b[0m \u001b[0mtypes\u001b[0m\u001b[1;33m.\u001b[0m\u001b[0mvoid\u001b[0m\u001b[1;33m,\u001b[0m \u001b[0margs\u001b[0m\u001b[1;33m,\u001b[0m \u001b[0mdebug\u001b[0m\u001b[1;33m=\u001b[0m\u001b[0mdebug\u001b[0m\u001b[1;33m,\u001b[0m \u001b[0minline\u001b[0m\u001b[1;33m=\u001b[0m\u001b[0minline\u001b[0m\u001b[1;33m)\u001b[0m\u001b[1;33m\u001b[0m\u001b[0m\n\u001b[0m\u001b[0;32m     51\u001b[0m     \u001b[0mfunc\u001b[0m \u001b[1;33m=\u001b[0m \u001b[0mcres\u001b[0m\u001b[1;33m.\u001b[0m\u001b[0mlibrary\u001b[0m\u001b[1;33m.\u001b[0m\u001b[0mget_function\u001b[0m\u001b[1;33m(\u001b[0m\u001b[0mcres\u001b[0m\u001b[1;33m.\u001b[0m\u001b[0mfndesc\u001b[0m\u001b[1;33m.\u001b[0m\u001b[0mllvm_func_name\u001b[0m\u001b[1;33m)\u001b[0m\u001b[1;33m\u001b[0m\u001b[0m\n\u001b[0;32m     52\u001b[0m     kernel = cres.target_context.prepare_cuda_kernel(func,\n",
      "\u001b[1;32m/home/dgiles/anaconda/lib/python2.7/site-packages/numba/cuda/compiler.pyc\u001b[0m in \u001b[0;36mcompile_cuda\u001b[1;34m(pyfunc, return_type, args, debug, inline)\u001b[0m\n\u001b[0;32m     38\u001b[0m                                   \u001b[0mreturn_type\u001b[0m\u001b[1;33m=\u001b[0m\u001b[0mreturn_type\u001b[0m\u001b[1;33m,\u001b[0m\u001b[1;33m\u001b[0m\u001b[0m\n\u001b[0;32m     39\u001b[0m                                   \u001b[0mflags\u001b[0m\u001b[1;33m=\u001b[0m\u001b[0mflags\u001b[0m\u001b[1;33m,\u001b[0m\u001b[1;33m\u001b[0m\u001b[0m\n\u001b[1;32m---> 40\u001b[1;33m                                   locals={})\n\u001b[0m\u001b[0;32m     41\u001b[0m \u001b[1;33m\u001b[0m\u001b[0m\n\u001b[0;32m     42\u001b[0m     \u001b[0mlibrary\u001b[0m \u001b[1;33m=\u001b[0m \u001b[0mcres\u001b[0m\u001b[1;33m.\u001b[0m\u001b[0mlibrary\u001b[0m\u001b[1;33m\u001b[0m\u001b[0m\n",
      "\u001b[1;32m/home/dgiles/anaconda/lib/python2.7/site-packages/numba/compiler.pyc\u001b[0m in \u001b[0;36mcompile_extra\u001b[1;34m(typingctx, targetctx, func, args, return_type, flags, locals, library)\u001b[0m\n\u001b[0;32m    663\u001b[0m     pipeline = Pipeline(typingctx, targetctx, library,\n\u001b[0;32m    664\u001b[0m                         args, return_type, flags, locals)\n\u001b[1;32m--> 665\u001b[1;33m     \u001b[1;32mreturn\u001b[0m \u001b[0mpipeline\u001b[0m\u001b[1;33m.\u001b[0m\u001b[0mcompile_extra\u001b[0m\u001b[1;33m(\u001b[0m\u001b[0mfunc\u001b[0m\u001b[1;33m)\u001b[0m\u001b[1;33m\u001b[0m\u001b[0m\n\u001b[0m\u001b[0;32m    666\u001b[0m \u001b[1;33m\u001b[0m\u001b[0m\n\u001b[0;32m    667\u001b[0m \u001b[1;33m\u001b[0m\u001b[0m\n",
      "\u001b[1;32m/home/dgiles/anaconda/lib/python2.7/site-packages/numba/compiler.pyc\u001b[0m in \u001b[0;36mcompile_extra\u001b[1;34m(self, func)\u001b[0m\n\u001b[0;32m    364\u001b[0m                 \u001b[1;32mraise\u001b[0m \u001b[0me\u001b[0m\u001b[1;33m\u001b[0m\u001b[0m\n\u001b[0;32m    365\u001b[0m \u001b[1;33m\u001b[0m\u001b[0m\n\u001b[1;32m--> 366\u001b[1;33m         \u001b[1;32mreturn\u001b[0m \u001b[0mself\u001b[0m\u001b[1;33m.\u001b[0m\u001b[0mcompile_bytecode\u001b[0m\u001b[1;33m(\u001b[0m\u001b[0mbc\u001b[0m\u001b[1;33m,\u001b[0m \u001b[0mfunc_attr\u001b[0m\u001b[1;33m=\u001b[0m\u001b[0mself\u001b[0m\u001b[1;33m.\u001b[0m\u001b[0mfunc_attr\u001b[0m\u001b[1;33m)\u001b[0m\u001b[1;33m\u001b[0m\u001b[0m\n\u001b[0m\u001b[0;32m    367\u001b[0m \u001b[1;33m\u001b[0m\u001b[0m\n\u001b[0;32m    368\u001b[0m     def compile_bytecode(self, bc, lifted=(), lifted_from=None,\n",
      "\u001b[1;32m/home/dgiles/anaconda/lib/python2.7/site-packages/numba/compiler.pyc\u001b[0m in \u001b[0;36mcompile_bytecode\u001b[1;34m(self, bc, lifted, lifted_from, func_attr)\u001b[0m\n\u001b[0;32m    373\u001b[0m         \u001b[0mself\u001b[0m\u001b[1;33m.\u001b[0m\u001b[0mlifted_from\u001b[0m \u001b[1;33m=\u001b[0m \u001b[0mlifted_from\u001b[0m\u001b[1;33m\u001b[0m\u001b[0m\n\u001b[0;32m    374\u001b[0m         \u001b[0mself\u001b[0m\u001b[1;33m.\u001b[0m\u001b[0mfunc_attr\u001b[0m \u001b[1;33m=\u001b[0m \u001b[0mfunc_attr\u001b[0m\u001b[1;33m\u001b[0m\u001b[0m\n\u001b[1;32m--> 375\u001b[1;33m         \u001b[1;32mreturn\u001b[0m \u001b[0mself\u001b[0m\u001b[1;33m.\u001b[0m\u001b[0m_compile_bytecode\u001b[0m\u001b[1;33m(\u001b[0m\u001b[1;33m)\u001b[0m\u001b[1;33m\u001b[0m\u001b[0m\n\u001b[0m\u001b[0;32m    376\u001b[0m \u001b[1;33m\u001b[0m\u001b[0m\n\u001b[0;32m    377\u001b[0m     \u001b[1;32mdef\u001b[0m \u001b[0mcompile_internal\u001b[0m\u001b[1;33m(\u001b[0m\u001b[0mself\u001b[0m\u001b[1;33m,\u001b[0m \u001b[0mbc\u001b[0m\u001b[1;33m,\u001b[0m \u001b[0mfunc_attr\u001b[0m\u001b[1;33m=\u001b[0m\u001b[0mDEFAULT_FUNCTION_ATTRIBUTES\u001b[0m\u001b[1;33m)\u001b[0m\u001b[1;33m:\u001b[0m\u001b[1;33m\u001b[0m\u001b[0m\n",
      "\u001b[1;32m/home/dgiles/anaconda/lib/python2.7/site-packages/numba/compiler.pyc\u001b[0m in \u001b[0;36m_compile_bytecode\u001b[1;34m(self)\u001b[0m\n\u001b[0;32m    650\u001b[0m \u001b[1;33m\u001b[0m\u001b[0m\n\u001b[0;32m    651\u001b[0m         \u001b[0mpm\u001b[0m\u001b[1;33m.\u001b[0m\u001b[0mfinalize\u001b[0m\u001b[1;33m(\u001b[0m\u001b[1;33m)\u001b[0m\u001b[1;33m\u001b[0m\u001b[0m\n\u001b[1;32m--> 652\u001b[1;33m         \u001b[1;32mreturn\u001b[0m \u001b[0mpm\u001b[0m\u001b[1;33m.\u001b[0m\u001b[0mrun\u001b[0m\u001b[1;33m(\u001b[0m\u001b[0mself\u001b[0m\u001b[1;33m.\u001b[0m\u001b[0mstatus\u001b[0m\u001b[1;33m)\u001b[0m\u001b[1;33m\u001b[0m\u001b[0m\n\u001b[0m\u001b[0;32m    653\u001b[0m \u001b[1;33m\u001b[0m\u001b[0m\n\u001b[0;32m    654\u001b[0m \u001b[1;33m\u001b[0m\u001b[0m\n",
      "\u001b[1;32m/home/dgiles/anaconda/lib/python2.7/site-packages/numba/compiler.pyc\u001b[0m in \u001b[0;36mrun\u001b[1;34m(self, status)\u001b[0m\n\u001b[0;32m    249\u001b[0m                     \u001b[1;31m# No more fallback pipelines?\u001b[0m\u001b[1;33m\u001b[0m\u001b[1;33m\u001b[0m\u001b[0m\n\u001b[0;32m    250\u001b[0m                     \u001b[1;32mif\u001b[0m \u001b[0mis_final_pipeline\u001b[0m\u001b[1;33m:\u001b[0m\u001b[1;33m\u001b[0m\u001b[0m\n\u001b[1;32m--> 251\u001b[1;33m                         \u001b[1;32mraise\u001b[0m \u001b[0mpatched_exception\u001b[0m\u001b[1;33m\u001b[0m\u001b[0m\n\u001b[0m\u001b[0;32m    252\u001b[0m                     \u001b[1;31m# Go to next fallback pipeline\u001b[0m\u001b[1;33m\u001b[0m\u001b[1;33m\u001b[0m\u001b[0m\n\u001b[0;32m    253\u001b[0m                     \u001b[1;32melse\u001b[0m\u001b[1;33m:\u001b[0m\u001b[1;33m\u001b[0m\u001b[0m\n",
      "\u001b[1;31mTypingError\u001b[0m: Caused By:\nTraceback (most recent call last):\n  File \"/home/dgiles/anaconda/lib/python2.7/site-packages/numba/compiler.py\", line 243, in run\n    res = stage()\n  File \"/home/dgiles/anaconda/lib/python2.7/site-packages/numba/compiler.py\", line 463, in stage_nopython_frontend\n    self.locals)\n  File \"/home/dgiles/anaconda/lib/python2.7/site-packages/numba/compiler.py\", line 780, in type_inference_stage\n    infer.propagate()\n  File \"/home/dgiles/anaconda/lib/python2.7/site-packages/numba/typeinfer.py\", line 565, in propagate\n    raise errors[0]\nTypingError: Invalid usage of Function(<built-in function max>) with parameters (array(int64, 1d, A))\n * parameterized\nFile \"<ipython-input-6-ffcac364267d>\", line 37\n\nFailed at nopython (nopython frontend)\nInvalid usage of Function(<built-in function max>) with parameters (array(int64, 1d, A))\n * parameterized\nFile \"<ipython-input-6-ffcac364267d>\", line 37"
     ]
    }
   ],
   "source": [
    "from datetime import datetime,time,timedelta\n",
    "import random\n",
    "import numpy as np\n",
    "from multiprocessing import Pool,cpu_count\n",
    "import sys\n",
    "import os\n",
    "import cPickle as pickle\n",
    "if sys.version_info[0] < 3:\n",
    "    import Tkinter as Tk\n",
    "else:\n",
    "    import tkinter as Tk\n",
    "    \n",
    "from tkFileDialog import askopenfilename,askdirectory\n",
    "\n",
    "root = Tk.Tk()\n",
    "root.wm_title(\"Scatter\")\n",
    "\n",
    "def reorganizeArray(X): \n",
    "    # This is just a transposition, could be accomplished by making X an np.array then transposing via X.T if prefered\n",
    "    # TODO: Time the difference with large datasets (100,000+)\n",
    "    return [[X[i][j] for i in range(len(X))] for j in range(len(X[0]))]\n",
    "\n",
    "def outlierInds(i):\n",
    "    #framework for multiprocessing to be implemented\n",
    "    clusterLabels=np.load('labels_temp.npy')\n",
    "    if clusterLabels[i] == max(clusterLabels):\n",
    "        return i\n",
    "def centerInds(i):\n",
    "    clusterLabels=np.load('labels_temp.npy')\n",
    "    if clusterLabels[i] == 0:\n",
    "        return i\n",
    "def clusterInds(i):\n",
    "    clusterLabels=np.load('labels_temp.npy')\n",
    "    if clusterLabels[i]!=0 and clusterLabels[i]<max(clusterLabels):\n",
    "        return i\n",
    "\n",
    "Tk.Tk.withdraw(root)\n",
    "print(\"Choose the directory the cluster data is contained in.\")\n",
    "pathtofile = askopenfilename() # Choose the cluster file\n",
    "openclusterfile = open(pathtofile,'r+')\n",
    "print(\"Importing pickle file...\")\n",
    "clusterfile = pickle.load(openclusterfile)\n",
    "print(\"File imported\")\n",
    "openclusterfile.close()\n",
    "files = np.array(clusterfile[0])\n",
    "clusterLabels = np.array(clusterfile[1])\n",
    "data = np.array(clusterfile[2])\n",
    "\n",
    "clusterIndices = []\n",
    "outlierIndices = []\n",
    "centerIndices = []\n",
    "print(\"Seperating into clusters, outliers, and centers...\")\n",
    "\n",
    "multiStart = datetime.now()\n",
    "np.save('labels_temp.npy',clusterLabels)\n",
    "numcpus = cpu_count()\n",
    "if numcpus > 2:\n",
    "    # Leave 1 cpus open for system tasks.\n",
    "    usecpus = numcpus-2\n",
    "else:\n",
    "    usecpus = 1\n",
    "p = Pool(usecpus)\n",
    "clusterIndices = p.map(clusterInds,range(len(files)))\n",
    "p.close()\n",
    "p.terminate()\n",
    "p.join()\n",
    "os.remove('labels_temp.npy')\n",
    "multiEnd = datetime.now()\n",
    "clusterIndices = [i for i in range(len(files)) if clusterLabels[i]!=0 and clusterLabels[i]<max(clusterLabels)]\n",
    "arrayEnd = datetime.now()\n",
    "multiTime = multiEnd-multiStart\n",
    "singleTime = arrayEnd-multiEnd\n",
    "\n",
    "print(\"Multi processing took: %s\"%multiTime)\n",
    "print(\"Single processing took: %s\"%singleTime)\n",
    "\"\"\"print(\"Seperated, choosing random cluster points to display...\")\n",
    "# I don't think anyone has a real interest in seeing hundreds of thousands of 'normal' points, choosing a random sampling\n",
    "# TODO: use density estimation to display all data\n",
    "randomClusterIndices = np.random.choice(clusterIndices,1000,replace=False)\n",
    "print(\"Reforming data arrays...\")\n",
    "inds = np.append(randomClusterIndices,outlierIndices)\n",
    "inds = np.append(inds,centerIndices)\n",
    "inds = [i for i in inds if i!=None]\n",
    "files = files[inds]\n",
    "clusterLabels = clusterLabels[inds]\n",
    "data = data[inds]\n",
    "plotArray = [files,clusterLabels,data]\n",
    "print(\"Plot in next cell.\")\"\"\""
   ]
  },
  {
   "cell_type": "code",
   "execution_count": 66,
   "metadata": {
    "collapsed": false,
    "deletable": true,
    "editable": true
   },
   "outputs": [
    {
     "name": "stdout",
     "output_type": "stream",
     "text": [
      "Single processing took: 0:00:00.315229\n",
      "[101, 102, 103, 104, 105, 106, 107, 108, 109, 111, 112, 113, 114, 115, 116, 117, 118, 119, 120, 121, 122, 123, 124, 125, 126, 127, 128, 129, 130, 131, 132, 133, 134, 135, 136, 137, 138, 139, 140, 141, 142, 143, 145, 146, 147, 148, 149, 150, 151, 152, 153, 154, 155, 156, 157, 158, 159, 160, 161, 162, 163, 164, 165, 166, 167, 168, 169, 170, 171, 172, 173, 174, 175, 176, 177, 178, 179, 180, 181, 182, 183, 184, 185, 186, 187, 188, 189, 190, 191, 192, 193, 194, 195, 196, 197, 198, 199, 200, 201, 202, 203, 204, 205, 206, 207, 208, 209, 210, 211, 212, 213, 214, 215, 216, 217, 218, 219, 221, 222, 223, 224, 225, 226, 227, 228, 229, 230, 231, 232, 233, 235, 236, 237, 238, 239, 240, 241, 242, 243, 244, 245, 246, 247, 248, 249, 250, 251, 252, 253, 254, 255, 256, 257, 258, 259, 260, 261, 262, 263, 264, 265, 266, 267, 268, 269, 270, 271, 272, 273, 274, 275, 276, 277, 278, 279, 280, 281, 282, 283, 284, 285, 286, 287, 288, 289, 290, 291, 292, 293, 294, 295, 296, 297, 298, 299, 300, 301, 302, 303, 304, 305, 306, 307, 308, 309, 310, 311, 312, 313, 314, 315, 316, 317, 318, 319, 320, 321, 322, 323, 324, 325, 326, 327, 328, 329, 330, 331, 332, 333, 334, 335, 336, 337, 338, 339, 340, 341, 342, 343, 344, 345, 346, 347, 348, 349, 350, 351, 352, 353, 354, 355, 356, 357, 358, 359, 360, 361, 362, 363, 364, 365, 366, 367, 368, 369, 370, 371, 372, 373, 374, 375, 376, 377, 378, 379, 380, 381, 382, 383, 384, 385, 386, 387, 388, 389, 390, 391, 392, 393, 394, 395, 396, 397, 398, 399, 400, 401, 402, 403, 404, 405, 406, 407, 408, 409, 410, 411, 412, 413, 414, 415, 416, 417, 418, 419, 420, 421, 422, 423, 424, 425, 426, 427, 428, 429, 430, 431, 432, 433, 434, 435, 436, 437, 438, 440, 441, 442, 443, 444, 445, 446, 447, 448, 449, 450, 451, 452, 453, 454, 455, 456, 457, 458, 459, 460, 461, 462, 463, 464, 465, 466, 467, 468, 469, 470, 471, 472, 473, 474, 475, 476, 477, 478, 479, 480, 481, 482, 483, 484, 485, 486, 487, 488, 489, 490, 491, 492, 493, 494, 495, 496, 498, 499, 500, 501, 502, 503, 504, 505, 506, 507, 508, 509, 510, 511, 512, 513, 514, 515, 516, 517, 518, 519, 520, 521, 522, 523, 524, 525, 526, 527, 528, 529, 530, 531, 532, 533, 534, 535, 536, 537, 538, 539, 540, 541, 542, 543, 544, 545, 546, 547, 548, 549, 550, 551, 552, 553, 554, 555, 556, 557, 558, 559, 560, 561, 562, 563, 564, 565, 566, 567, 568, 569, 570, 571, 572, 573, 574, 575, 576, 577, 578, 579, 580, 581, 582, 583, 584, 585, 586, 587, 588, 589, 590, 591, 592, 593, 594, 595, 596, 597, 598, 599, 600, 601, 602, 603, 604, 605, 606, 607, 608, 609, 610, 611, 612, 613, 614, 615, 616, 617, 618, 619, 620, 621, 622, 623, 624, 625, 626, 627, 628, 629, 630, 631, 632, 633, 635, 636, 637, 638, 639, 640, 641, 642, 643, 644, 645, 646, 647, 648, 649, 650, 651, 652, 653, 654, 655, 656, 657, 658, 659, 661, 662, 663, 664, 665, 666, 667, 668, 669, 670, 671, 672, 673, 674, 675, 676, 677, 678, 680, 681, 682, 683, 684, 685, 686, 687, 689, 690, 691, 692, 693, 694, 695, 696, 697, 698, 699, 700, 701, 702, 703, 704, 705, 706, 707, 708, 709, 710, 711, 712, 713, 714, 715, 716, 717, 718, 719, 720, 721, 722, 723, 724, 725, 726, 727, 728, 729, 730, 731, 732, 733, 734, 735, 736, 737, 738, 739, 740, 741, 742, 743, 744, 745, 746, 747, 748, 749, 750, 751, 752, 753, 754, 755, 756, 757, 758, 759, 760, 761, 762, 763, 764, 765, 766, 767, 768, 769, 770, 771, 772, 773, 774, 775, 776, 777, 778, 779, 780, 781, 782, 783, 784, 785, 786, 787, 788, 789, 790, 791, 792, 793, 794, 795, 796, 797, 798, 799, 800, 801, 802, 803, 804, 805, 806, 807, 808, 809, 810, 811, 812, 813, 814, 815, 816, 817, 818, 819, 820, 821, 822, 823, 824, 825, 826, 827, 828, 829, 830, 831, 832, 833, 834, 835, 836, 837, 838, 839, 840, 841, 842, 843, 844, 845, 846, 847, 848, 849, 850, 851, 852, 853, 854, 855, 856, 857, 858, 859, 860, 861, 862, 863, 864, 865, 866, 867, 868, 869, 870, 871, 872, 873, 874, 875, 876, 877, 878, 879, 880, 881, 882, 883, 884, 885, 886, 887, 888, 889, 890, 891, 892, 893, 894, 895, 896, 897, 898, 899, 900, 901, 902, 903, 904, 905, 906, 907, 908, 909, 910, 911, 912, 913, 914, 915, 916, 917, 918, 919, 921, 922, 923, 924, 925, 926, 927, 928, 929, 930, 931, 932, 934, 935, 936, 937, 938, 939, 940, 941, 942, 943, 944, 945, 946, 947, 948, 949, 950, 951, 952, 953, 954, 955, 956, 957, 958, 959, 960, 961, 962, 963, 964, 965, 966, 967, 968, 969, 970, 971, 972, 973, 975, 976, 977, 978, 979, 980, 981, 982, 983, 984, 985, 986, 987, 988, 989, 990, 991, 992, 993, 994, 995, 996, 997, 998, 999, 1000, 1001, 1002, 1003, 1004, 1005, 1006, 1007, 1008, 1009, 1010, 1011, 1012, 1013]\n"
     ]
    }
   ],
   "source": [
    "from datetime import datetime,time,timedelta\n",
    "import random\n",
    "import numpy as np\n",
    "from multiprocessing import Pool,cpu_count\n",
    "import sys\n",
    "import os\n",
    "import cPickle as pickle\n",
    "if sys.version_info[0] < 3:\n",
    "    import Tkinter as Tk\n",
    "else:\n",
    "    import tkinter as Tk\n",
    "    \n",
    "from tkFileDialog import askopenfilename,askdirectory\n",
    "\n",
    "from numbapro import cuda\n",
    "\n",
    "@cuda.autojit\n",
    "def clusterIndsCuda(clusterLabels,clusterIndexes):\n",
    "    bx = cuda.blockIdx.x # which block in the grid?\n",
    "    bw = cuda.blockDim.x # what is the size of a block?\n",
    "    tx = cuda.threadIdx.x # unique thread ID within a blcok\n",
    "    i = tx + bx * bw\n",
    "    if i<=len(clusterLabels):\n",
    "        if clusterLabels[i]!=0 and clusterLabels[i]<outs:\n",
    "            clusterIndexes[i]=int(i)\n",
    "        else:\n",
    "            clusterIndexes[i]=N+1\n",
    "            return\n",
    "\n",
    "            \n",
    "multiEnd = datetime.now()\n",
    "\n",
    "### Start Cuda GPU Stuff ###\n",
    "outs=max(clusterLabels)\n",
    "N=len(clusterLabels)\n",
    "d_clusterLabels = cuda.to_device(clusterLabels)\n",
    "\n",
    "clusterIndexes = np.empty(N)\n",
    "d_clusterIndexes=cuda.to_device(clusterIndexes)\n",
    "N=len(clusterLabels)\n",
    "threads_per_block = 128\n",
    "number_of_blocks =N/128+1\n",
    "\n",
    "clusterIndsCuda[number_of_blocks,threads_per_block ] (d_clusterLabels,d_clusterIndexes)\n",
    "\n",
    "clusterIndexes = d_clusterIndexes.copy_to_host()\n",
    "clusterIndexes = [int(clusterIndexes[i]) for i in range(len(clusterIndexes)) if clusterIndexes[i]<(N+1)]\n",
    "gpuEnd = datetime.now()\n",
    "multiTime = multiEnd-multiStart\n",
    "singleTime = gpuEnd-multiEnd\n",
    "\n",
    "print(\"Single processing took: %s\"%singleTime)\n",
    "print clusterIndexes[100:1000]"
   ]
  },
  {
   "cell_type": "code",
   "execution_count": 4,
   "metadata": {
    "collapsed": false,
    "deletable": true,
    "editable": true
   },
   "outputs": [
    {
     "name": "stdout",
     "output_type": "stream",
     "text": [
      "Blocks per grid: 4\n",
      "Threads per block 32\n",
      "[   0.    2.    4.    6.    8.   10.   12.   14.   16.   18.   20.   22.\n",
      "   24.   26.   28.   30.   32.   34.   36.   38.   40.   42.   44.   46.\n",
      "   48.   50.   52.   54.   56.   58.   60.   62.   64.   66.   68.   70.\n",
      "   72.   74.   76.   78.   80.   82.   84.   86.   88.   90.   92.   94.\n",
      "   96.   98.  100.  102.  104.  106.  108.  110.  112.  114.  116.  118.\n",
      "  120.  122.  124.  126.  128.  130.  132.  134.  136.  138.  140.  142.\n",
      "  144.  146.  148.  150.  152.  154.  156.  158.  160.  162.  164.  166.\n",
      "  168.  170.  172.  174.  176.  178.  180.  182.  184.  186.  188.  190.\n",
      "  192.  194.  196.  198.]\n"
     ]
    }
   ],
   "source": [
    "from numbapro import cuda, vectorize, guvectorize, check_cuda\n",
    "from numbapro import void, uint8 , uint32, uint64, int32, int64, float32, float64, f8\n",
    "import numpy as np\n",
    "\n",
    "@cuda.autojit\n",
    "def cu_add1(a, b, c):\n",
    "    \"\"\"This kernel function will be executed by a thread.\"\"\"\n",
    "    bx = cuda.blockIdx.x # which block in the grid?\n",
    "    bw = cuda.blockDim.x # what is the size of a block?\n",
    "    tx = cuda.threadIdx.x # unique thread ID within a blcok\n",
    "    i = tx + bx * bw\n",
    "\n",
    "    if i > c.size:\n",
    "        return\n",
    "\n",
    "    c[i] = a[i] + b[i]\n",
    "    \n",
    "device = cuda.get_current_device()\n",
    "\n",
    "n = 100\n",
    "\n",
    "# Host memory\n",
    "a = np.arange(n, dtype=np.float32)\n",
    "b = np.arange(n, dtype=np.float32)\n",
    "\n",
    "# Assign equivalent storage on device\n",
    "da = cuda.to_device(a)\n",
    "db = cuda.to_device(b)\n",
    "\n",
    "# Assign storage on device for output\n",
    "dc = cuda.device_array_like(a)\n",
    "\n",
    "# Set up enough threads for kernel\n",
    "tpb = device.WARP_SIZE\n",
    "bpg = int(np.ceil(float(n)/tpb))\n",
    "print 'Blocks per grid:', bpg\n",
    "print 'Threads per block', tpb\n",
    "\n",
    "# Launch kernel\n",
    "cu_add1[bpg, tpb](da, db, dc)\n",
    "\n",
    "# Transfer output from device to host\n",
    "c = dc.copy_to_host()\n",
    "\n",
    "print c"
   ]
  },
  {
   "cell_type": "code",
   "execution_count": 51,
   "metadata": {
    "collapsed": false,
    "deletable": true,
    "editable": true
   },
   "outputs": [
    {
     "name": "stdout",
     "output_type": "stream",
     "text": [
      "[ 0.  1.  2.  3.  4.  5.  6.  7.  8.  9.]\n",
      "[ 166263.  166264.  166265.  166266.  166267.]\n",
      "166268\n",
      "166268\n",
      "[4 2 4 4 6 1 4 6 6 4 4 2 7 1 1 6 1 1 1 3 1 4 1 3 1 2 4 3 4 1 1 1 1 2 1 1 1\n",
      " 6 6 5 1 1 1 3 5 1 4 1 5 5 1 4 4 2 4 4 1 4 1 1 6 1 6 1 1 1 1 4 2 4 1 4 6 6\n",
      " 5 6 1 1 6 1 1 2 6 3 1 1 1 6 1 3 1 1 1 1 1 4 1 1 4 1]\n"
     ]
    },
    {
     "data": {
      "text/plain": [
       "'d_clusterLabels = cuda.to_device(clusterLabels)\\nd_clusterIndexes=cuda.device_array_like(clusterLabels)\\n\\nthreads_per_block = 128\\nnumber_of_blocks =N/128+1\\n\\nclusterIndsCuda[number_of_blocks,threads_per_block ](d_clusterLabels,d_clusterIndexes)\\n\\nclusterIndexes = d_clusterIndexes.copy_to_host()'"
      ]
     },
     "execution_count": 51,
     "metadata": {},
     "output_type": "execute_result"
    }
   ],
   "source": [
    "from numbapro import cuda\n",
    "cuda.select_device(0)\n",
    "import numpy as np\n",
    "\n",
    "@cuda.autojit\n",
    "def saxpy(a, b, c):\n",
    "    # Determine our unique global thread ID, so we know which element to process\n",
    "    tid = cuda.blockIdx.x * cuda.blockDim.x + cuda.threadIdx.x\n",
    "    \n",
    "    if ( tid < c.size ): # Make sure we don't do more work than we have data!\n",
    "        c[tid] = 2 * a[tid] + b[tid]\n",
    "\n",
    "@cuda.autojit\n",
    "def clusterIndsCuda(cows,clusterIndexes):\n",
    "    bx = cuda.blockIdx.x # which block in the grid?\n",
    "    bw = cuda.blockDim.x # what is the size of a block?\n",
    "    tx = cuda.threadIdx.x # unique thread ID within a blcok\n",
    "    i = tx + bx * bw\n",
    "        \n",
    "    if i<=len(cows):\n",
    "        if cows[i]!=0:\n",
    "            if cows[i]<6:\n",
    "                clusterIndexes[i]=i\n",
    "    else:\n",
    "        return\n",
    "    #    clusterIndexes[i]=N+1\n",
    "    \n",
    "def main():\n",
    "    N = len(clusterLabels)\n",
    "\n",
    "    # Allocate host memory arrays\n",
    "    a = np.array(clusterLabels)\n",
    "    b = np.empty(N)\n",
    "\n",
    "    # Initialize host memory\n",
    "    a.fill(2)\n",
    "    b.fill(None)\n",
    "\n",
    "    # Allocate and copy GPU/device memory\n",
    "    d_a = cuda.to_device(a)\n",
    "    d_b = cuda.to_device(b)\n",
    "    threads_per_block = 128\n",
    "    number_of_blocks =N/128+1 ## FIXME: given the threads_per_block is set, determine how many blocks we need ##\n",
    "\n",
    "    clusterIndsCuda [ number_of_blocks, threads_per_block ] (d_a,d_b) ## FIXME: what variables do we pass? ##, N \n",
    "\n",
    "    ## FIXME: copy the vector c from the GPU back to the host ##\n",
    "    d_b.copy_to_host(b)\n",
    "    print b[0:10]\n",
    "    print b[-5:]\n",
    "    print N\n",
    "    print len(b)\n",
    "    print clusterLabels[0:100]\n",
    "main() # Execute the program\n",
    "\n",
    "N=len(clusterLabels)\n",
    "\n",
    "\"\"\"d_clusterLabels = cuda.to_device(clusterLabels)\n",
    "d_clusterIndexes=cuda.device_array_like(clusterLabels)\n",
    "\n",
    "threads_per_block = 128\n",
    "number_of_blocks =N/128+1\n",
    "\n",
    "clusterIndsCuda[number_of_blocks,threads_per_block ](d_clusterLabels,d_clusterIndexes)\n",
    "\n",
    "clusterIndexes = d_clusterIndexes.copy_to_host()\"\"\"\n"
   ]
  },
  {
   "cell_type": "code",
   "execution_count": 1,
   "metadata": {
    "collapsed": false,
    "deletable": true,
    "editable": true
   },
   "outputs": [
    {
     "name": "stderr",
     "output_type": "stream",
     "text": [
      "numbapro:1: ImportWarning: The numbapro package is deprecated in favour of the accelerate package. Please update your code to use equivalent functions from accelerate.\n"
     ]
    },
    {
     "name": "stdout",
     "output_type": "stream",
     "text": [
      "------------------------------libraries detection-------------------------------\n",
      "Finding cublas\n",
      "\tlocated at /home/dgiles/anaconda/lib/libcublas.so.7.0.28\n",
      "\ttrying to open library...\tok\n",
      "Finding cusparse\n",
      "\tlocated at /home/dgiles/anaconda/lib/libcusparse.so.7.0.28\n",
      "\ttrying to open library...\tok\n",
      "Finding cufft\n",
      "\tlocated at /home/dgiles/anaconda/lib/libcufft.so.7.0.35\n",
      "\ttrying to open library...\tok\n",
      "Finding curand\n",
      "\tlocated at /home/dgiles/anaconda/lib/libcurand.so.7.0.28\n",
      "\ttrying to open library...\tok\n",
      "Finding nvvm\n",
      "\tlocated at /home/dgiles/anaconda/lib/libnvvm.so.3.0.0\n",
      "\ttrying to open library...\tok\n",
      "\tfinding libdevice for compute_20...\tok\n",
      "\tfinding libdevice for compute_30...\tok\n",
      "\tfinding libdevice for compute_35...\tok\n",
      "-------------------------------hardware detection-------------------------------\n",
      "Found 1 CUDA devices\n",
      "id 0            Quadro K2000                              [SUPPORTED]\n",
      "                      compute capability: 3.0\n",
      "                           pci device id: 0\n",
      "                              pci bus id: 5\n",
      "Summary:\n",
      "\t1/1 devices are supported\n",
      "PASSED\n"
     ]
    },
    {
     "data": {
      "text/plain": [
       "True"
      ]
     },
     "execution_count": 1,
     "metadata": {},
     "output_type": "execute_result"
    }
   ],
   "source": [
    "import numbapro\n",
    "numbapro.check_cuda()"
   ]
  },
  {
   "cell_type": "code",
   "execution_count": 7,
   "metadata": {
    "collapsed": false,
    "deletable": true,
    "editable": true
   },
   "outputs": [
    {
     "name": "stdout",
     "output_type": "stream",
     "text": [
      "5:31:56.811708\n"
     ]
    }
   ],
   "source": [
    "import sys\n",
    "if sys.version_info[0] < 3:\n",
    "    from Tkinter import Tk\n",
    "else:\n",
    "    from tkinter import Tk\n",
    "from tkFileDialog import askopenfilename,askdirectory\n",
    "    \n",
    "Tk().withdraw() # we don't want a full GUI, so keep the root window from appearing\n",
    "filelist = askopenfilename() # show an \"Open\" dialog box and return the path to the selected file\n",
    "files = [line.strip() for line in open(filelist)]\n",
    "print files[-1]"
   ]
  },
  {
   "cell_type": "code",
   "execution_count": 9,
   "metadata": {
    "collapsed": false,
    "deletable": true,
    "editable": true
   },
   "outputs": [
    {
     "name": "stdout",
     "output_type": "stream",
     "text": [
      "9391733\n"
     ]
    }
   ],
   "source": [
    "print len(files[0])"
   ]
  },
  {
   "cell_type": "code",
   "execution_count": null,
   "metadata": {
    "collapsed": true,
    "deletable": true,
    "editable": true
   },
   "outputs": [],
   "source": [
    "import numpy as np\n",
    "import sys\n",
    "import cpickle as pickle\n",
    "if sys.version_info[0] < 3:\n",
    "    from Tkinter import Tk\n",
    "else:\n",
    "    from tkinter import Tk\n",
    "from tkFileDialog import askopenfilename,askdirectory\n",
    "\n",
    "from numbapro import cuda\n",
    "\n",
    "def read_kepler_curve(file):\n",
    "    lc = pyfits.getdata(file)\n",
    "    t = lc.field('TIME')\n",
    "    f = lc.field('PDCSAP_FLUX')\n",
    "    \n",
    "    f = f[np.isfinite(t)]\n",
    "    t = t[np.isfinite(t)]\n",
    "    t = t[np.isfinite(f)]\n",
    "    f = f[np.isfinite(f)]\n",
    "    \n",
    "    nf = f / np.median(f)\n",
    "    l=len(t)\n",
    "    return t, nf,l\n",
    "\n",
    "@cuda.autojit\n",
    "def cu_add1(t, nf, l,out):\n",
    "    \"\"\"This kernel function will be executed by a thread.\"\"\"\n",
    "    bx = cuda.blockIdx.x # which block in the grid?\n",
    "    bw = cuda.blockDim.x # what is the size of a block?\n",
    "    tx = cuda.threadIdx.x # unique thread ID within a blcok\n",
    "    i = tx + bx * bw\n",
    "    if i>0:\n",
    "        start=sum(l[0:i])\n",
    "    length = l[i]\n",
    "    t_arr=t[start:start+length]\n",
    "    nf_arr=nf[start:start+length]\n",
    "    \n",
    "    if i > c.size:\n",
    "        return\n",
    "    \n",
    "    \n",
    "\n",
    "Tk().withdraw() # we don't want a full GUI, so keep the root window from appearing\n",
    "filelist = askopenfilename() # show an \"Open\" dialog box and return the path to the selected file\n",
    "\n",
    "Tk().withdraw() # we don't want a full GUI, so keep the root window from appearing\n",
    "fitsDir = askdirectory() # show an \"Open\" dialog box and return the path to the selected file\n",
    "\n",
    "files = [fitsDir+'/'+line.strip() for line in open(filelist)]\n",
    "\n",
    "if __name__ == '__main__':\n",
    "    numcpus = cpu_count()\n",
    "    usecpus = numcpus\n",
    "    p = Pool(usecpus)\n",
    "    lc = p.map(read_kepler_curve,files)\n",
    "    p.close()\n",
    "    p.join()\n",
    "\n",
    "t,nf,l=np.append(lc[0]),np.append(lc[1]),lc[2]\n",
    "\n",
    "device = cuda.get_current_device()\n",
    "\n",
    "n = 100\n",
    "\n",
    "# Assign equivalent storage on device\n",
    "dt = cuda.to_device(t)\n",
    "dnf = cuda.to_device(nf)\n",
    "dl = cuda.to_device(l)\n",
    "# Assign storage on device for output\n",
    "out = np.zeros(len(files)*60)\n",
    "dout = cuda.to_device(out)\n",
    "\n",
    "# Set up enough threads for kernel\n",
    "tpb = device.WARP_SIZE\n",
    "bpg = int(np.ceil(float(n)/tpb))\n",
    "\n",
    "# Launch kernel\n",
    "cu_add1[bpg, tpb](dt, dnf, dl, dout)\n",
    "\n",
    "# Transfer output from device to host\n",
    "out = dout.copy_to_host()\n",
    "\n",
    "print out\n"
   ]
  },
  {
   "cell_type": "code",
   "execution_count": 10,
   "metadata": {
    "collapsed": false,
    "deletable": true,
    "editable": true
   },
   "outputs": [
    {
     "name": "stdout",
     "output_type": "stream",
     "text": [
      "Blocks per grid: 4\n",
      "Threads per block 32\n",
      "[   0.    2.    4.    6.    8.   10.   12.   14.   16.   18.   20.   22.\n",
      "   24.   26.   28.   30.   32.   34.   36.   38.   40.   42.   44.   46.\n",
      "   48.   50.   52.   54.   56.   58.   60.   62.   64.   66.   68.   70.\n",
      "   72.   74.   76.   78.   80.   82.   84.   86.   88.   90.   92.   94.\n",
      "   96.   98.  100.  102.  104.  106.  108.  110.  112.  114.  116.  118.\n",
      "  120.  122.  124.  126.  128.  130.  132.  134.  136.  138.  140.  142.\n",
      "  144.  146.  148.  150.  152.  154.  156.  158.  160.  162.  164.  166.\n",
      "  168.  170.  172.  174.  176.  178.  180.  182.  184.  186.  188.  190.\n",
      "  192.  194.  196.  198.]\n"
     ]
    }
   ],
   "source": [
    "from numbapro import cuda\n",
    "import numpy as np\n",
    "\n",
    "@cuda.autojit\n",
    "def cu_add1(a, b, c, d):\n",
    "    \"\"\"This kernel function will be executed by a thread.\"\"\"\n",
    "    bx = cuda.blockIdx.x # which block in the grid?\n",
    "    bw = cuda.blockDim.x # what is the size of a block?\n",
    "    tx = cuda.threadIdx.x # unique thread ID within a blcok\n",
    "    i = tx + bx * bw\n",
    "    barr = b[i]\n",
    "    bi = barr\n",
    "    if i > c.size:\n",
    "        return\n",
    "    c[i] = a[i] + bi\n",
    "    \n",
    "device = cuda.get_current_device()\n",
    "\n",
    "n = 100\n",
    "\n",
    "# Host memory\n",
    "a = np.arange(100)\n",
    "b = np.array([str([i]) for i in range(100)])\n",
    "\n",
    "a = np.arange(n, dtype=np.float32)\n",
    "b = np.arange(n, dtype=np.float32)\n",
    "d = np.array(3)\n",
    "\n",
    "# Assign equivalent storage on device\n",
    "da = cuda.to_device(a)\n",
    "db = cuda.to_device(b)\n",
    "dd = cuda.to_device(d)\n",
    "# Assign storage on device for output\n",
    "dc = cuda.device_array_like(a)\n",
    "\n",
    "# Set up enough threads for kernel\n",
    "tpb = device.WARP_SIZE\n",
    "bpg = int(np.ceil(float(n)/tpb))\n",
    "print 'Blocks per grid:', bpg\n",
    "print 'Threads per block', tpb\n",
    "\n",
    "# Launch kernel\n",
    "cu_add1[bpg, tpb](da, db, dc,dd)\n",
    "\n",
    "# Transfer output from device to host\n",
    "c = dc.copy_to_host()\n",
    "\n",
    "print c"
   ]
  },
  {
   "cell_type": "code",
   "execution_count": 37,
   "metadata": {
    "collapsed": false,
    "deletable": true,
    "editable": true
   },
   "outputs": [
    {
     "data": {
      "image/png": "[encoded data removed]",
      "text/plain": [
       "<matplotlib.figure.Figure at 0x7f9712d45390>"
      ]
     },
     "metadata": {},
     "output_type": "display_data"
    },
    {
     "data": {
      "image/png": "[encoded data removed]",
      "text/plain": [
       "<matplotlib.figure.Figure at 0x7f9713304a90>"
      ]
     },
     "metadata": {},
     "output_type": "display_data"
    }
   ],
   "source": [
    "import matplotlib\n",
    "import matplotlib.pyplot as plt\n",
    "from matplotlib.figure import Figure\n",
    "%matplotlib inline\n",
    "x = [1,2,3,4,5]\n",
    "y = [1,2,3,4,5]\n",
    "plt.figure(1)\n",
    "ax1 = plt.subplot(441)\n",
    "ax1.set_title('Fig 1')\n",
    "ax1.scatter(x,y)\n",
    "ax2 = plt.subplot(412)\n",
    "ax2.scatter(x,y)\n",
    "ax2.set_title('Fig 2')\n",
    "plt.figure(2)\n",
    "ax3 = plt.subplot(413)\n",
    "plt.ylabel('normalized flux')\n",
    "ax3.scatter(x,y)\n",
    "ax3.set_title('Fig 3')\n",
    "ax4 = plt.subplot(414)\n",
    "ax4.plot(x,y)\n",
    "ax4.set_title('Fig 4')\n",
    "plt.xlabel('time')\n",
    "plt.tight_layout()\n",
    "plt.show()\n"
   ]
  },
  {
   "cell_type": "code",
   "execution_count": 42,
   "metadata": {
    "collapsed": false,
    "deletable": true,
    "editable": true
   },
   "outputs": [
    {
     "name": "stdout",
     "output_type": "stream",
     "text": [
      "5\n"
     ]
    }
   ],
   "source": [
    "simpledict = {1:2,3:4,2:5}\n",
    "print simpledict[2]"
   ]
  },
  {
   "cell_type": "code",
   "execution_count": 18,
   "metadata": {
    "collapsed": false,
    "deletable": true,
    "editable": true
   },
   "outputs": [
    {
     "name": "stdout",
     "output_type": "stream",
     "text": [
      "Importing data...\n",
      "100 loops, best of 3: 7.61 ms per loop\n"
     ]
    }
   ],
   "source": [
    "import numpy as np\n",
    "from sklearn.neighbors import BallTree\n",
    "import cPickle as pickle\n",
    "import os\n",
    "import sys\n",
    "if sys.version_info[0] < 3:\n",
    "    from Tkinter import Tk\n",
    "else:\n",
    "    from tkinter import Tk\n",
    "from tkFileDialog import askopenfilename\n",
    "\n",
    "def loadData(output):\n",
    "    pathtofile = os.path.dirname(output)\n",
    "    outputfile = open(output,'r+') # show an \"Open\" dialog box and return the path to the selected file\n",
    "    \"\"\"\n",
    "    Switched methods of saving data in keplerml.py, the following handles files saved from either method.\n",
    "    \"\"\"\n",
    "    outputdata = []\n",
    "    while True:\n",
    "        try:\n",
    "            o = pickle.load(outputfile)\n",
    "        except EOFError:\n",
    "            break\n",
    "        else:\n",
    "            outputdata.append(o)\n",
    "    outputfile.close()\n",
    "    \n",
    "    # Update to keplerml.py saves the output more compactly, following accounts for that\n",
    "    if len(outputdata)==1:\n",
    "        outputdata = outputdata[0]\n",
    "    \n",
    "    return outputdata\n",
    "\n",
    "Tk().withdraw()\n",
    "output = askopenfilename()\n",
    "if output:\n",
    "    print(\"Importing data...\")\n",
    "    outputdata = np.array(loadData(output))\n",
    "    X = outputdata[:,1:]\n",
    "    %%timeit BallTree(X)\n",
    "    "
   ]
  },
  {
   "cell_type": "code",
   "execution_count": 42,
   "metadata": {
    "collapsed": false,
    "deletable": true,
    "editable": true
   },
   "outputs": [
    {
     "name": "stdout",
     "output_type": "stream",
     "text": [
      "0\n"
     ]
    }
   ],
   "source": [
    "a = np.array(['hi','bye','cya'])\n",
    "b = np.argwhere(a=='hi')\n",
    "print b[0][0]"
   ]
  },
  {
   "cell_type": "code",
   "execution_count": 1,
   "metadata": {
    "collapsed": false,
    "deletable": true,
    "editable": true
   },
   "outputs": [
    {
     "ename": "NameError",
     "evalue": "name 'np' is not defined",
     "output_type": "error",
     "traceback": [
      "\u001b[1;31m---------------------------------------------------------------------------\u001b[0m",
      "\u001b[1;31mNameError\u001b[0m                                 Traceback (most recent call last)",
      "\u001b[1;32m<ipython-input-1-43c466cce483>\u001b[0m in \u001b[0;36m<module>\u001b[1;34m()\u001b[0m\n\u001b[1;32m----> 1\u001b[1;33m \u001b[0ma\u001b[0m \u001b[1;33m=\u001b[0m \u001b[0mnp\u001b[0m\u001b[1;33m.\u001b[0m\u001b[0marray\u001b[0m\u001b[1;33m(\u001b[0m\u001b[1;33m[\u001b[0m\u001b[1;33m[\u001b[0m\u001b[1;36m1\u001b[0m\u001b[1;33m,\u001b[0m\u001b[1;36m2\u001b[0m\u001b[1;33m]\u001b[0m\u001b[1;33m,\u001b[0m\u001b[1;33m[\u001b[0m\u001b[1;36m1\u001b[0m\u001b[1;33m,\u001b[0m\u001b[1;36m3\u001b[0m\u001b[1;33m]\u001b[0m\u001b[1;33m,\u001b[0m\u001b[1;33m[\u001b[0m\u001b[1;36m1\u001b[0m\u001b[1;33m,\u001b[0m\u001b[1;36m4\u001b[0m\u001b[1;33m]\u001b[0m\u001b[1;33m,\u001b[0m\u001b[1;33m[\u001b[0m\u001b[1;36m1\u001b[0m\u001b[1;33m,\u001b[0m\u001b[1;36m5\u001b[0m\u001b[1;33m]\u001b[0m\u001b[1;33m,\u001b[0m\u001b[1;33m[\u001b[0m\u001b[1;36m1\u001b[0m\u001b[1;33m,\u001b[0m\u001b[1;36m1\u001b[0m\u001b[1;33m]\u001b[0m\u001b[1;33m]\u001b[0m\u001b[1;33m)\u001b[0m\u001b[1;33m\u001b[0m\u001b[0m\n\u001b[0m\u001b[0;32m      2\u001b[0m \u001b[0mb\u001b[0m \u001b[1;33m=\u001b[0m \u001b[0mnp\u001b[0m\u001b[1;33m.\u001b[0m\u001b[0marray\u001b[0m\u001b[1;33m(\u001b[0m\u001b[1;33m[\u001b[0m\u001b[1;36m1\u001b[0m\u001b[1;33m,\u001b[0m\u001b[1;36m1\u001b[0m\u001b[1;33m]\u001b[0m\u001b[1;33m,\u001b[0m\u001b[1;33m[\u001b[0m\u001b[1;36m1\u001b[0m\u001b[1;33m,\u001b[0m\u001b[1;36m3\u001b[0m\u001b[1;33m]\u001b[0m\u001b[1;33m)\u001b[0m\u001b[1;33m\u001b[0m\u001b[0m\n\u001b[0;32m      3\u001b[0m \u001b[1;32mprint\u001b[0m \u001b[0ma\u001b[0m\u001b[1;33m-\u001b[0m\u001b[0mb\u001b[0m\u001b[1;33m\u001b[0m\u001b[0m\n\u001b[0;32m      4\u001b[0m \u001b[1;32mprint\u001b[0m \u001b[1;33m(\u001b[0m\u001b[0ma\u001b[0m\u001b[1;33m-\u001b[0m\u001b[0mb\u001b[0m\u001b[1;33m)\u001b[0m\u001b[1;33m**\u001b[0m\u001b[1;36m2\u001b[0m\u001b[1;33m\u001b[0m\u001b[0m\n\u001b[0;32m      5\u001b[0m \u001b[1;32mprint\u001b[0m \u001b[1;33m[\u001b[0m\u001b[0msum\u001b[0m\u001b[1;33m(\u001b[0m\u001b[1;33m(\u001b[0m\u001b[0mj\u001b[0m\u001b[1;33m-\u001b[0m\u001b[0mb\u001b[0m\u001b[1;33m)\u001b[0m\u001b[1;33m**\u001b[0m\u001b[1;36m2\u001b[0m\u001b[1;33m)\u001b[0m\u001b[1;33m**\u001b[0m\u001b[1;36m.5\u001b[0m \u001b[1;32mfor\u001b[0m \u001b[0mj\u001b[0m \u001b[1;32min\u001b[0m \u001b[0ma\u001b[0m\u001b[1;33m]\u001b[0m\u001b[1;33m\u001b[0m\u001b[0m\n",
      "\u001b[1;31mNameError\u001b[0m: name 'np' is not defined"
     ]
    }
   ],
   "source": [
    "a = np.array([[1,2],[1,3],[1,4],[1,5],[1,1]])\n",
    "b = np.array([1,1],[1,3])\n",
    "print a-b\n",
    "print (a-b)**2\n",
    "print [sum((j-b)**2)**.5 for j in a]\n",
    "for i in enumerate(a):\n",
    "    print sum(((a-b)**2)[i[0]])**.5\n"
   ]
  },
  {
   "cell_type": "code",
   "execution_count": 14,
   "metadata": {
    "collapsed": false,
    "deletable": true,
    "editable": true
   },
   "outputs": [
    {
     "name": "stdout",
     "output_type": "stream",
     "text": [
      "[array([[ True, False],\n",
      "       [ True,  True]], dtype=bool)]\n"
     ]
    }
   ],
   "source": [
    "import numpy as np\n",
    "a = np.array([[1,2],[1,3],[1,4],[1,5],[1,1]])\n",
    "b = np.array([[1,1],[1,3]])\n",
    "c = [b==[1,3]]\n",
    "print c"
   ]
  },
  {
   "cell_type": "code",
   "execution_count": 18,
   "metadata": {
    "collapsed": false,
    "deletable": true,
    "editable": true
   },
   "outputs": [],
   "source": [
    "import matplotlib\n",
    "matplotlib.use('TkAgg')\n",
    "\n",
    "from numpy import arange, sin, pi\n",
    "from matplotlib.backends.backend_tkagg import FigureCanvasTkAgg, NavigationToolbar2TkAgg\n",
    "# implement the default mpl key bindings\n",
    "from matplotlib.backend_bases import key_press_handler\n",
    "\n",
    "\n",
    "from matplotlib.figure import Figure\n",
    "\n",
    "import sys\n",
    "if sys.version_info[0] < 3:\n",
    "    import Tkinter as Tk\n",
    "else:\n",
    "    import tkinter as Tk\n",
    "\n",
    "root = Tk.Tk()\n",
    "root.wm_title(\"Embedding in TK\")\n",
    "\n",
    "\n",
    "f = Figure(figsize=(5, 4), dpi=100)\n",
    "a = f.add_subplot(111)\n",
    "t = arange(0.0, 3.0, 0.01)\n",
    "s = sin(2*pi*t)\n",
    "\n",
    "a.plot(t, s)\n",
    "\n",
    "\n",
    "# a tk.DrawingArea\n",
    "canvas = FigureCanvasTkAgg(f, master=root)\n",
    "canvas.show()\n",
    "canvas.get_tk_widget().pack(side=Tk.TOP, fill=Tk.BOTH, expand=1)\n",
    "\n",
    "toolbar = NavigationToolbar2TkAgg(canvas, root)\n",
    "toolbar.update()\n",
    "canvas._tkcanvas.pack(side=Tk.TOP, fill=Tk.BOTH, expand=1)\n",
    "\n",
    "\n",
    "def on_key_event(event):\n",
    "    print('you pressed %s' % event.key)\n",
    "    key_press_handler(event, canvas, toolbar)\n",
    "\n",
    "canvas.mpl_connect('key_press_event', on_key_event)\n",
    "\n",
    "\n",
    "def _quit():\n",
    "    root.quit()     # stops mainloop\n",
    "    root.destroy()  # this is necessary on Windows to prevent\n",
    "                    # Fatal Python Error: PyEval_RestoreThread: NULL tstate\n",
    "\n",
    "button = Tk.Button(master=root, text='Quit', command=_quit)\n",
    "button.pack(side=Tk.BOTTOM)\n",
    "\n",
    "Tk.mainloop()\n",
    "# If you put root.destroy() here, it will cause an error if\n",
    "# the window is closed with the window manager."
   ]
  },
  {
   "cell_type": "code",
   "execution_count": 4,
   "metadata": {
    "collapsed": false,
    "deletable": true,
    "editable": true
   },
   "outputs": [],
   "source": [
    "with open(\"tmp_data.csv\",'w') as f:f.close()\n",
    "import os\n",
    "os.remove('tmp_data.csv')"
   ]
  },
  {
   "cell_type": "code",
   "execution_count": 56,
   "metadata": {
    "collapsed": false
   },
   "outputs": [
    {
     "data": {
      "text/html": [
       "<div>\n",
       "<table border=\"1\" class=\"dataframe\">\n",
       "  <thead>\n",
       "    <tr style=\"text-align: right;\">\n",
       "      <th></th>\n",
       "      <th>f1</th>\n",
       "      <th>f2</th>\n",
       "      <th>f3</th>\n",
       "    </tr>\n",
       "  </thead>\n",
       "  <tbody>\n",
       "    <tr>\n",
       "      <th>0</th>\n",
       "      <td>1.0</td>\n",
       "      <td>2.0</td>\n",
       "      <td>3.0</td>\n",
       "    </tr>\n",
       "  </tbody>\n",
       "</table>\n",
       "</div>"
      ],
      "text/plain": [
       "    f1   f2   f3\n",
       "0  1.0  2.0  3.0"
      ]
     },
     "execution_count": 56,
     "metadata": {},
     "output_type": "execute_result"
    }
   ],
   "source": [
    "# import pandas as pd\n",
    "import numpy as np\n",
    "df = pd.DataFrame({'f1':[],'f2':[],'f3':[]},index=[])\n",
    "df2 = pd.DataFrame(np.array([[1,2,3]]),index=['KPLR'],columns=df.columns)\n",
    "df=df.append(df2,ignore_index=True)\n",
    "df"
   ]
  },
  {
   "cell_type": "code",
   "execution_count": 58,
   "metadata": {
    "collapsed": false
   },
   "outputs": [
    {
     "data": {
      "text/plain": [
       "True"
      ]
     },
     "execution_count": 58,
     "metadata": {},
     "output_type": "execute_result"
    }
   ],
   "source": [
    "'KPLR'==df2.index[0]"
   ]
  },
  {
   "cell_type": "code",
   "execution_count": null,
   "metadata": {
    "collapsed": true
   },
   "outputs": [],
   "source": []
  }
 ],
 "metadata": {
  "kernelspec": {
   "display_name": "Python 3",
   "language": "python",
   "name": "python3"
  },
  "language_info": {
   "codemirror_mode": {
    "name": "ipython",
    "version": 3
   },
   "file_extension": ".py",
   "mimetype": "text/x-python",
   "name": "python",
   "nbconvert_exporter": "python",
   "pygments_lexer": "ipython3",
   "version": "3.5.3"
  }
 },
 "nbformat": 4,
 "nbformat_minor": 0
}
